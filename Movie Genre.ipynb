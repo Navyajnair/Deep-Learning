{
 "cells": [
  {
   "cell_type": "markdown",
   "id": "9e3b76fc",
   "metadata": {},
   "source": [
    "## Movie Genre"
   ]
  },
  {
   "cell_type": "markdown",
   "id": "1c112c81",
   "metadata": {},
   "source": [
    "### Import Necessary Libraries"
   ]
  },
  {
   "cell_type": "code",
   "execution_count": 1,
   "id": "32b1cb2f",
   "metadata": {},
   "outputs": [],
   "source": [
    "import numpy as np\n",
    "import matplotlib.pyplot as plt\n",
    "import seaborn as sns\n",
    "import pandas as pd"
   ]
  },
  {
   "cell_type": "markdown",
   "id": "9ccfdc14",
   "metadata": {},
   "source": [
    "### Read the dataset"
   ]
  },
  {
   "cell_type": "code",
   "execution_count": 2,
   "id": "caf8038e",
   "metadata": {},
   "outputs": [],
   "source": [
    "df=pd.read_csv('movie_data (1).csv')[:1000]"
   ]
  },
  {
   "cell_type": "markdown",
   "id": "7963f1dd",
   "metadata": {},
   "source": [
    "## view head"
   ]
  },
  {
   "cell_type": "code",
   "execution_count": 3,
   "id": "71961dbb",
   "metadata": {},
   "outputs": [
    {
     "data": {
      "text/html": [
       "<div>\n",
       "<style scoped>\n",
       "    .dataframe tbody tr th:only-of-type {\n",
       "        vertical-align: middle;\n",
       "    }\n",
       "\n",
       "    .dataframe tbody tr th {\n",
       "        vertical-align: top;\n",
       "    }\n",
       "\n",
       "    .dataframe thead th {\n",
       "        text-align: right;\n",
       "    }\n",
       "</style>\n",
       "<table border=\"1\" class=\"dataframe\">\n",
       "  <thead>\n",
       "    <tr style=\"text-align: right;\">\n",
       "      <th></th>\n",
       "      <th>review</th>\n",
       "      <th>sentiment</th>\n",
       "    </tr>\n",
       "  </thead>\n",
       "  <tbody>\n",
       "    <tr>\n",
       "      <th>0</th>\n",
       "      <td>This movie is just crap. Even though the direc...</td>\n",
       "      <td>0</td>\n",
       "    </tr>\n",
       "    <tr>\n",
       "      <th>1</th>\n",
       "      <td>Another detailed work on the subject by Dr Dwi...</td>\n",
       "      <td>1</td>\n",
       "    </tr>\n",
       "    <tr>\n",
       "      <th>2</th>\n",
       "      <td>THE CAT O'NINE TAILS (Il Gatto a Nove Code) &lt;b...</td>\n",
       "      <td>0</td>\n",
       "    </tr>\n",
       "    <tr>\n",
       "      <th>3</th>\n",
       "      <td>Like with any movie genre, there are good gang...</td>\n",
       "      <td>0</td>\n",
       "    </tr>\n",
       "    <tr>\n",
       "      <th>4</th>\n",
       "      <td>I watched it with my mom and we were like...&lt;b...</td>\n",
       "      <td>0</td>\n",
       "    </tr>\n",
       "  </tbody>\n",
       "</table>\n",
       "</div>"
      ],
      "text/plain": [
       "                                              review  sentiment\n",
       "0  This movie is just crap. Even though the direc...          0\n",
       "1  Another detailed work on the subject by Dr Dwi...          1\n",
       "2  THE CAT O'NINE TAILS (Il Gatto a Nove Code) <b...          0\n",
       "3  Like with any movie genre, there are good gang...          0\n",
       "4  I watched it with my mom and we were like...<b...          0"
      ]
     },
     "execution_count": 3,
     "metadata": {},
     "output_type": "execute_result"
    }
   ],
   "source": [
    "df.head()"
   ]
  },
  {
   "cell_type": "markdown",
   "id": "192cd76e",
   "metadata": {},
   "source": [
    "### Print some of the texts along with its sentiments"
   ]
  },
  {
   "cell_type": "code",
   "execution_count": 4,
   "id": "131868cd",
   "metadata": {},
   "outputs": [
    {
     "name": "stdout",
     "output_type": "stream",
     "text": [
      "This movie is just crap. Even though the directors claim to be part of that oi-culture, it's still a very, very bad directorial debut. The topic itself is very interesting and I accept the bad acting due to the fact, that they are all amateurs and never acted before, but the worst thing about this film are the dialogs and very unexperienced and naive directing. There's no timing at all in that movie. I felt like the directors were so exited to do that movie (it's their first feature), that they actually never really asked themselves, what story they wanna tell. I met Ben (one of the directors) on several occasions and he's a nice and thoughtful guy, but that doesn't make him a director. I think, that \"American History X\" is full of clichÃ©s, but somehow manages to transport a story. \"Oi!Warning\" is full of clichÃ©s, doesn't tell anything new or provocative and (-that's the sad thing about this movie) it's far from any Oi!-Reality.<br /><br />If you wanna see weird but great German films, watch the movies of Michael Haneke, Christoph Schlingensief, Oskar Roehler, Hans Weingartner or Oliver Hirschbiegel:<br /><br />Benny's Video Funny Games Die UnberÃ¼hrbare Mein Letzter Film Das Experiment Das Weisse Rauschen MuxmÃ¤uschenstill ...<br /><br />*** out of ten, because of the topic and the photography - 0\n",
      "\n",
      "Another detailed work on the subject by Dr Dwivedi takes us back in time to pre-partioned Panjab. Dr Dwivedi chose a difficult subject for his movie debut. He has worked on all meticulous details to bring the story to life. The treatment of the subject is very delicate.<br /><br />Even though we have not been to the region during that time, the sets and costumes look real. Unlike most movies made on partition, this one focuses not on the gory details of violence to attract audience, but on its after-effects. The characters come to life. Priyanshu Chatterjee has given an impressive performance. Manoj Bajpai has acted his heart out showing the plight of a guilt-ridden man. The rest of the cast has done a good job too. - 1\n",
      "\n",
      "THE CAT O'NINE TAILS (Il Gatto a Nove Code) <br /><br />Aspect ratio: 2.35:1 (Cromoscope)<br /><br />Sound format: Mono<br /><br />(35mm and 70mm release prints)<br /><br />A blind ex-journalist (Karl Malden) overhears a blackmail plot outside a genetics research laboratory and later teams up with a fellow reporter (James Franciscus) to investigate a series of murders at the lab, unwittingly placing their own loved ones at the mercy of a psychopathic killer.<br /><br />Rushed into production following the unexpected worldwide success of his directorial debut THE BIRD WITH THE CRYSTAL PLUMAGE (1969), Dario Argento conceived THE CAT O'NINE TAILS as a giallo-thriller in much the same vein as its forerunner, toplining celebrated Hollywood actor Karl Malden - fresh from his appearance in PATTON (1969) - and rising star Franciscus (THE VALLEY OF GWANGI). Sadly, the resulting film - which the ads claimed was 'nine times more suspenseful' than \"Bird\" - is a disappointing follow-up, impeccably photographed and stylishly executed, but too plodding and aimless for general consumption.<br /><br />Malden and Franciscus are eminently watchable in sympathetic roles, and cinematographer Enrico Menczer (THE DEAD ARE ALIVE) uses the wide Cromoscope frame to convey the hi-tech world in which Argento's dark-hearted scenario unfolds, but the subplot involving Euro starlet Catherine Spaak (THE LIBERTINE) as Franciscus' romantic interest amounts to little more than unnecessary padding. Highlights include an unforgettable encounter with the black-gloved assassin in a crowded railway station (edited with sleek assurance by cult movie stalwart Franco Fraticelli), and a nocturnal episode in which Malden and Franciscus seek an important clue inside a mouldering tomb and fall prey to the killer's devious machinations. But despite these flashes of brilliance, the film rambles aimlessly from one scene to the next, simmering gently without ever really coming to the boil. It's no surprise that \"Cat\" failed to emulate the runaway success of \"Bird\" when released in 1971.<br /><br />(English version) - 0\n",
      "\n",
      "Like with any movie genre, there are good gangster movies and there are bad gangster movies. If you asked me to name a good gangster movie, I'd have dozens to choose from. If you asked me to name a bad gangster movie, probably the first one to pop up in my mind is one that still has me in a sort of depression of disappointment about a week since I saw the film for the first and I promise you, the last time. That film is \"The General\", unrelated to the 1926 silent film of the same name. This is a very dry, very slow gangster epic that raises questions not about the story (it's more than easy to follow) but about why the filmmakers chose to make this rather flimsy endeavor.<br /><br />Like \"Goodfellas\" (1990) and \"American Gangster\" (2007)Â—two superior mob moviesÂ—\"The General\" is based on real people and true events. The film revolves around an Irish criminal named Martin Cahill (Brendan Gleeson) who started his long chain of crimes stealing food as a teenager and then moving up to robbing museums and houses as an adult. Meanwhile, the police led by an inspector named Kenny (Jon Voight) try desperately and vigorously to prove just one of his crimes and convict (or kill) him.<br /><br />Perhaps because it's a film in the same category as the marvelous \"Goodfellas\" (1990) and the first two \"Godfather\" films, I was expecting too much from \"The General.\" But that may be going too easy on it. This would have been a bad film had I not seen the aforementioned masterpieces before being swamped by boredom in this oater and its far-too-stretched running time of screaming bad scenes. Let's start knocking the film by just looking at the style in which it is presented. For some reason, director John Boorman and cinematographer Seamus Deasy selected to film this movie in black-and-white while its style and presentation are clearly the elements that belong to a full-fledged color film. Now I have nothing against b/w pictures, not even ones made in modern-day times. \"Schindler's List\" (1993) was more than ninety percent filmed in black-and-white and it's a masterpiece. \"The General\", made just five years after \"Schindler's List\" is not. The cinematography is also far too blown out with high lighting keys that seem very distracting and give the movie a very video-game-like quality that I found simply annoying. The filmmakers were obviously going for a realist's documentary-like style, like \"Schindler's List\" did, but they fail by making it seem too much like a documentary and at the same time, too much like a classic-style motion picture. Performances in the film range from passable to poor. Brendan Gleeson and Jon Voight gave decent enthusiasm for their roles, but it seemed to me at times that even they were getting kind of run down by the awful screenplay from which they were quoting. The sound design is also very primitive, probably in an attempt to give it a 40s crime-noir appeal, but that also fails because again, it's made too much like a contemporary picture and seems vastly out of place.<br /><br />But the worst thing that occurs is that there's not oneÂ—not oneÂ—character in the film that I felt any emotions or opinions for. In fact, for every moment of every scene, the only thought going through my head was \"okayÂ…so what?\" Moments that in a better film might come across as shocking or appalling are just dull and time-consuming here. I did not sympathize or hate the Brendan Gleeson character because the way the Cahill character is written is simply flat and dull. Gleeson just plays the common criminal and does not strike out with the impact the real Martin Cahill obviously did. If a character is killed off (as they always are in gangster films), we feel nothing. No remorse, no relief, no surprise, nothing. We just say \"so what?\" And that's all I did during the entire running time of this very flimsy, very poorly-made crime film. - 0\n",
      "\n",
      "I watched it with my mom and we were like...<br /><br />What the hell? We didn't get it at all. I may have this wrong, but a chair had something to do with the death of this woman's father. That movie was terrible! This is not a movie for those who love a good suspense movie. Bad suspense movie! *shakes cane at movie* I'm never seeing it again. And I'm a big fan of lifetime movies, too! They kinda need to quit trying to make movies outta books. It's driving me crazy!!!<br /><br />And Whit was butt-ugly and yet, she loves him more than Hugh, who was a TINY bit nicer-looking.<br /><br />My rating: 1/10 - 0\n",
      "\n"
     ]
    }
   ],
   "source": [
    "for i in range(5):\n",
    "    print(df['review'][i],'-',df['sentiment'][i])\n",
    "    print()"
   ]
  },
  {
   "cell_type": "markdown",
   "id": "942a53df",
   "metadata": {},
   "source": [
    "### View info"
   ]
  },
  {
   "cell_type": "code",
   "execution_count": 5,
   "id": "7085bb61",
   "metadata": {},
   "outputs": [
    {
     "name": "stdout",
     "output_type": "stream",
     "text": [
      "<class 'pandas.core.frame.DataFrame'>\n",
      "RangeIndex: 1000 entries, 0 to 999\n",
      "Data columns (total 2 columns):\n",
      " #   Column     Non-Null Count  Dtype \n",
      "---  ------     --------------  ----- \n",
      " 0   review     1000 non-null   object\n",
      " 1   sentiment  1000 non-null   int64 \n",
      "dtypes: int64(1), object(1)\n",
      "memory usage: 15.8+ KB\n"
     ]
    }
   ],
   "source": [
    "df.info()"
   ]
  },
  {
   "cell_type": "markdown",
   "id": "3e781bd1",
   "metadata": {},
   "source": [
    "### View basic statistical information about the dataset"
   ]
  },
  {
   "cell_type": "code",
   "execution_count": 6,
   "id": "f783d3af",
   "metadata": {},
   "outputs": [
    {
     "data": {
      "text/html": [
       "<div>\n",
       "<style scoped>\n",
       "    .dataframe tbody tr th:only-of-type {\n",
       "        vertical-align: middle;\n",
       "    }\n",
       "\n",
       "    .dataframe tbody tr th {\n",
       "        vertical-align: top;\n",
       "    }\n",
       "\n",
       "    .dataframe thead th {\n",
       "        text-align: right;\n",
       "    }\n",
       "</style>\n",
       "<table border=\"1\" class=\"dataframe\">\n",
       "  <thead>\n",
       "    <tr style=\"text-align: right;\">\n",
       "      <th></th>\n",
       "      <th>sentiment</th>\n",
       "    </tr>\n",
       "  </thead>\n",
       "  <tbody>\n",
       "    <tr>\n",
       "      <th>count</th>\n",
       "      <td>1000.000000</td>\n",
       "    </tr>\n",
       "    <tr>\n",
       "      <th>mean</th>\n",
       "      <td>0.501000</td>\n",
       "    </tr>\n",
       "    <tr>\n",
       "      <th>std</th>\n",
       "      <td>0.500249</td>\n",
       "    </tr>\n",
       "    <tr>\n",
       "      <th>min</th>\n",
       "      <td>0.000000</td>\n",
       "    </tr>\n",
       "    <tr>\n",
       "      <th>25%</th>\n",
       "      <td>0.000000</td>\n",
       "    </tr>\n",
       "    <tr>\n",
       "      <th>50%</th>\n",
       "      <td>1.000000</td>\n",
       "    </tr>\n",
       "    <tr>\n",
       "      <th>75%</th>\n",
       "      <td>1.000000</td>\n",
       "    </tr>\n",
       "    <tr>\n",
       "      <th>max</th>\n",
       "      <td>1.000000</td>\n",
       "    </tr>\n",
       "  </tbody>\n",
       "</table>\n",
       "</div>"
      ],
      "text/plain": [
       "         sentiment\n",
       "count  1000.000000\n",
       "mean      0.501000\n",
       "std       0.500249\n",
       "min       0.000000\n",
       "25%       0.000000\n",
       "50%       1.000000\n",
       "75%       1.000000\n",
       "max       1.000000"
      ]
     },
     "execution_count": 6,
     "metadata": {},
     "output_type": "execute_result"
    }
   ],
   "source": [
    "df.describe()"
   ]
  },
  {
   "cell_type": "markdown",
   "id": "1ada3645",
   "metadata": {},
   "source": [
    "### Check for null values"
   ]
  },
  {
   "cell_type": "code",
   "execution_count": 7,
   "id": "46fa2c6d",
   "metadata": {},
   "outputs": [
    {
     "data": {
      "text/plain": [
       "review       0\n",
       "sentiment    0\n",
       "dtype: int64"
      ]
     },
     "execution_count": 7,
     "metadata": {},
     "output_type": "execute_result"
    }
   ],
   "source": [
    "df.isna().sum()"
   ]
  },
  {
   "cell_type": "markdown",
   "id": "51fc64d3",
   "metadata": {},
   "source": [
    "### Check for duplicated values"
   ]
  },
  {
   "cell_type": "code",
   "execution_count": 8,
   "id": "a5eb6d2e",
   "metadata": {},
   "outputs": [
    {
     "data": {
      "text/plain": [
       "0"
      ]
     },
     "execution_count": 8,
     "metadata": {},
     "output_type": "execute_result"
    }
   ],
   "source": [
    "df.duplicated().sum()"
   ]
  },
  {
   "cell_type": "markdown",
   "id": "6d4a8d56",
   "metadata": {},
   "source": [
    "### Drop duplicated values"
   ]
  },
  {
   "cell_type": "code",
   "execution_count": 9,
   "id": "47eb89ec",
   "metadata": {},
   "outputs": [],
   "source": [
    "df.drop_duplicates(inplace=True,keep='first')"
   ]
  },
  {
   "cell_type": "code",
   "execution_count": 10,
   "id": "aba66503",
   "metadata": {},
   "outputs": [
    {
     "data": {
      "text/plain": [
       "0"
      ]
     },
     "execution_count": 10,
     "metadata": {},
     "output_type": "execute_result"
    }
   ],
   "source": [
    "df.duplicated().sum()"
   ]
  },
  {
   "cell_type": "markdown",
   "id": "ca0b2a79",
   "metadata": {},
   "source": [
    "### Plot a countplot of 'Emotions'"
   ]
  },
  {
   "cell_type": "code",
   "execution_count": 11,
   "id": "0b8018ab",
   "metadata": {},
   "outputs": [
    {
     "data": {
      "text/plain": [
       "<Axes: xlabel='count', ylabel='sentiment'>"
      ]
     },
     "execution_count": 11,
     "metadata": {},
     "output_type": "execute_result"
    },
    {
     "data": {
      "image/png": "[encoded data removed]",
      "text/plain": [
       "<Figure size 500x500 with 1 Axes>"
      ]
     },
     "metadata": {},
     "output_type": "display_data"
    }
   ],
   "source": [
    "plt.figure(figsize=(5,5))\n",
    "sns.countplot(y=df['sentiment'])"
   ]
  },
  {
   "cell_type": "markdown",
   "id": "888dd89d",
   "metadata": {},
   "source": [
    "### Create a function to preprocess the text"
   ]
  },
  {
   "cell_type": "code",
   "execution_count": 12,
   "id": "394e3e3a",
   "metadata": {},
   "outputs": [],
   "source": [
    "import re\n",
    "from nltk.corpus import stopwords\n",
    "from nltk.stem import WordNetLemmatizer"
   ]
  },
  {
   "cell_type": "code",
   "execution_count": 13,
   "id": "4a5c9dcc",
   "metadata": {},
   "outputs": [],
   "source": [
    "def preprocessing(sentence):\n",
    "    text=re.sub(r\"[^a-zA_Z0-9]\",' ',sentence).split()\n",
    "    words = [x.lower() for x in text if x not in stopwords.words('english')]\n",
    "    \n",
    "    lemma=WordNetLemmatizer()\n",
    "    word=[lemma.lemmatize(word,'v')for word in words]\n",
    "    word=' '.join(word)\n",
    "    return words\n"
   ]
  },
  {
   "cell_type": "markdown",
   "id": "e9cce27b",
   "metadata": {},
   "source": [
    "### Apply the function on Text column"
   ]
  },
  {
   "cell_type": "code",
   "execution_count": 14,
   "id": "b64d135f",
   "metadata": {},
   "outputs": [],
   "source": [
    "df['review']=df['review'].apply(preprocessing)"
   ]
  },
  {
   "cell_type": "markdown",
   "id": "fed7713c",
   "metadata": {},
   "source": [
    "### Print some of the texts after the preprocess"
   ]
  },
  {
   "cell_type": "code",
   "execution_count": 15,
   "id": "1dc354c4",
   "metadata": {},
   "outputs": [
    {
     "name": "stdout",
     "output_type": "stream",
     "text": [
      "['movie', 'crap', 'ven', 'though', 'directors', 'claim', 'part', 'oi', 'culture', 'still', 'bad', 'directorial', 'debut', 'topic', 'interesting', 'accept', 'bad', 'acting', 'due', 'fact', 'amateurs', 'never', 'acted', 'worst', 'thing', 'film', 'dialogs', 'unexperienced', 'naive', 'directing', 'timing', 'movie', 'felt', 'like', 'directors', 'exited', 'movie', 'first', 'feature', 'actually', 'never', 'really', 'asked', 'story', 'wanna', 'tell', 'met', 'en', 'one', 'directors', 'several', 'occasions', 'nice', 'thoughtful', 'guy', 'make', 'director', 'think', 'american', 'istory', 'full', 'clich', 'somehow', 'manages', 'transport', 'story', 'arning', 'full', 'clich', 'tell', 'anything', 'new', 'provocative', 'sad', 'thing', 'movie', 'far', 'eality', 'br', 'br', 'f', 'wanna', 'see', 'weird', 'great', 'erman', 'films', 'watch', 'movies', 'ichael', 'aneke', 'hristoph', 'chlingensief', 'skar', 'oehler', 'ans', 'eingartner', 'liver', 'irschbiegel', 'br', 'br', 'enny', 'ideo', 'unny', 'ames', 'ie', 'nber', 'hrbare', 'ein', 'etzter', 'ilm', 'xperiment', 'eisse', 'auschen', 'uxm', 'uschenstill', 'br', 'br', 'ten', 'topic', 'photography'] - 0\n",
      "\n",
      "['another', 'detailed', 'work', 'subject', 'r', 'wivedi', 'takes', 'us', 'back', 'time', 'pre', 'partioned', 'anjab', 'r', 'wivedi', 'chose', 'difficult', 'subject', 'movie', 'debut', 'e', 'worked', 'meticulous', 'details', 'bring', 'story', 'life', 'treatment', 'subject', 'delicate', 'br', 'br', 'ven', 'though', 'region', 'time', 'sets', 'costumes', 'look', 'real', 'nlike', 'movies', 'made', 'partition', 'one', 'focuses', 'gory', 'details', 'violence', 'attract', 'audience', 'effects', 'characters', 'come', 'life', 'riyanshu', 'hatterjee', 'given', 'impressive', 'performance', 'anoj', 'ajpai', 'acted', 'heart', 'showing', 'plight', 'guilt', 'ridden', 'man', 'rest', 'cast', 'done', 'good', 'job'] - 1\n",
      "\n",
      "['a', 'a', 'l', 'atto', 'ove', 'ode', 'br', 'br', 'aspect', 'ratio', '2', '35', '1', 'romoscope', 'br', 'br', 'ound', 'format', 'ono', 'br', 'br', '35mm', '70mm', 'release', 'prints', 'br', 'br', 'a', 'blind', 'ex', 'journalist', 'arl', 'alden', 'overhears', 'blackmail', 'plot', 'outside', 'genetics', 'research', 'laboratory', 'later', 'teams', 'fellow', 'reporter', 'ames', 'ranciscus', 'investigate', 'series', 'murders', 'lab', 'unwittingly', 'placing', 'loved', 'ones', 'mercy', 'psychopathic', 'killer', 'br', 'br', 'ushed', 'production', 'following', 'unexpected', 'worldwide', 'success', 'directorial', 'debut', 'a', 'a', '1969', 'ario', 'argento', 'conceived', 'a', 'a', 'giallo', 'thriller', 'much', 'vein', 'forerunner', 'toplining', 'celebrated', 'ollywood', 'actor', 'arl', 'alden', 'fresh', 'appearance', 'a', '1969', 'rising', 'star', 'ranciscus', 'a', 'a', 'adly', 'resulting', 'film', 'ads', 'claimed', 'nine', 'times', 'suspenseful', 'ird', 'disappointing', 'follow', 'impeccably', 'photographed', 'stylishly', 'executed', 'plodding', 'aimless', 'general', 'consumption', 'br', 'br', 'alden', 'ranciscus', 'eminently', 'watchable', 'sympathetic', 'roles', 'cinematographer', 'nrico', 'enczer', 'a', 'a', 'a', 'uses', 'wide', 'romoscope', 'frame', 'convey', 'hi', 'tech', 'world', 'argento', 'dark', 'hearted', 'scenario', 'unfolds', 'subplot', 'involving', 'uro', 'starlet', 'atherine', 'paak', 'ranciscus', 'romantic', 'interest', 'amounts', 'little', 'unnecessary', 'padding', 'ighlights', 'include', 'unforgettable', 'encounter', 'black', 'gloved', 'assassin', 'crowded', 'railway', 'station', 'edited', 'sleek', 'assurance', 'cult', 'movie', 'stalwart', 'ranco', 'raticelli', 'nocturnal', 'episode', 'alden', 'ranciscus', 'seek', 'important', 'clue', 'inside', 'mouldering', 'tomb', 'fall', 'prey', 'killer', 'devious', 'machinations', 'ut', 'despite', 'flashes', 'brilliance', 'film', 'rambles', 'aimlessly', 'one', 'scene', 'next', 'simmering', 'gently', 'without', 'ever', 'really', 'coming', 'boil', 'surprise', 'failed', 'emulate', 'runaway', 'success', 'ird', 'released', '1971', 'br', 'br', 'nglish', 'version'] - 0\n",
      "\n",
      "['ike', 'movie', 'genre', 'good', 'gangster', 'movies', 'bad', 'gangster', 'movies', 'f', 'asked', 'name', 'good', 'gangster', 'movie', 'dozens', 'choose', 'f', 'asked', 'name', 'bad', 'gangster', 'movie', 'probably', 'first', 'one', 'pop', 'mind', 'one', 'still', 'sort', 'depression', 'disappointment', 'week', 'since', 'saw', 'film', 'first', 'promise', 'last', 'time', 'hat', 'film', 'eneral', 'unrelated', '1926', 'silent', 'film', 'name', 'dry', 'slow', 'gangster', 'epic', 'raises', 'questions', 'story', 'easy', 'follow', 'filmmakers', 'chose', 'make', 'rather', 'flimsy', 'endeavor', 'br', 'br', 'ike', 'oodfellas', '1990', 'american', 'angster', '2007', 'two', 'superior', 'mob', 'movies', 'eneral', 'based', 'real', 'people', 'true', 'events', 'film', 'revolves', 'around', 'rish', 'criminal', 'named', 'artin', 'ahill', 'rendan', 'leeson', 'started', 'long', 'chain', 'crimes', 'stealing', 'food', 'teenager', 'moving', 'robbing', 'museums', 'houses', 'adult', 'eanwhile', 'police', 'led', 'inspector', 'named', 'enny', 'oight', 'try', 'desperately', 'vigorously', 'prove', 'one', 'crimes', 'convict', 'kill', 'br', 'br', 'erhaps', 'film', 'category', 'marvelous', 'oodfellas', '1990', 'first', 'two', 'odfather', 'films', 'expecting', 'much', 'eneral', 'ut', 'may', 'going', 'easy', 'would', 'bad', 'film', 'seen', 'aforementioned', 'masterpieces', 'swamped', 'boredom', 'oater', 'far', 'stretched', 'running', 'time', 'screaming', 'bad', 'scenes', 'et', 'start', 'knocking', 'film', 'looking', 'style', 'presented', 'reason', 'director', 'ohn', 'oorman', 'cinematographer', 'eamus', 'easy', 'selected', 'film', 'movie', 'black', 'white', 'style', 'presentation', 'clearly', 'elements', 'belong', 'full', 'fledged', 'color', 'film', 'ow', 'nothing', 'b', 'w', 'pictures', 'even', 'ones', 'made', 'modern', 'day', 'times', 'chindler', 'ist', '1993', 'ninety', 'percent', 'filmed', 'black', 'white', 'masterpiece', 'eneral', 'made', 'five', 'years', 'chindler', 'ist', 'cinematography', 'also', 'far', 'blown', 'high', 'lighting', 'keys', 'seem', 'distracting', 'give', 'movie', 'video', 'game', 'like', 'quality', 'found', 'simply', 'annoying', 'filmmakers', 'obviously', 'going', 'realist', 'documentary', 'like', 'style', 'like', 'chindler', 'ist', 'fail', 'making', 'seem', 'much', 'like', 'documentary', 'time', 'much', 'like', 'classic', 'style', 'motion', 'picture', 'erformances', 'film', 'range', 'passable', 'poor', 'rendan', 'leeson', 'oight', 'gave', 'decent', 'enthusiasm', 'roles', 'seemed', 'times', 'even', 'getting', 'kind', 'run', 'awful', 'screenplay', 'quoting', 'sound', 'design', 'also', 'primitive', 'probably', 'attempt', 'give', '40s', 'crime', 'noir', 'appeal', 'also', 'fails', 'made', 'much', 'like', 'contemporary', 'picture', 'seems', 'vastly', 'place', 'br', 'br', 'ut', 'worst', 'thing', 'occurs', 'one', 'one', 'character', 'film', 'felt', 'emotions', 'opinions', 'n', 'fact', 'every', 'moment', 'every', 'scene', 'thought', 'going', 'head', 'okay', 'oments', 'better', 'film', 'might', 'come', 'across', 'shocking', 'appalling', 'dull', 'time', 'consuming', 'sympathize', 'hate', 'rendan', 'leeson', 'character', 'way', 'ahill', 'character', 'written', 'simply', 'flat', 'dull', 'leeson', 'plays', 'common', 'criminal', 'strike', 'impact', 'real', 'artin', 'ahill', 'obviously', 'f', 'character', 'killed', 'always', 'gangster', 'films', 'feel', 'nothing', 'remorse', 'relief', 'surprise', 'nothing', 'e', 'say', 'and', 'entire', 'running', 'time', 'flimsy', 'poorly', 'made', 'crime', 'film'] - 0\n",
      "\n",
      "['watched', 'mom', 'like', 'br', 'br', 'hat', 'hell', 'e', 'get', 'may', 'wrong', 'chair', 'something', 'death', 'woman', 'father', 'hat', 'movie', 'terrible', 'movie', 'love', 'good', 'suspense', 'movie', 'ad', 'suspense', 'movie', 'shakes', 'cane', 'movie', 'never', 'seeing', 'and', 'big', 'fan', 'lifetime', 'movies', 'hey', 'kinda', 'need', 'quit', 'trying', 'make', 'movies', 'outta', 'books', 'driving', 'crazy', 'br', 'br', 'and', 'hit', 'butt', 'ugly', 'yet', 'loves', 'ugh', 'bit', 'nicer', 'looking', 'br', 'br', 'rating', '1', '10'] - 0\n",
      "\n"
     ]
    }
   ],
   "source": [
    "for i in range(5):\n",
    "    print(df['review'][i],'-',df['sentiment'][i])\n",
    "    print()"
   ]
  },
  {
   "cell_type": "markdown",
   "id": "6496737b",
   "metadata": {},
   "source": [
    "### Split the dataset into Input and Target Variables"
   ]
  },
  {
   "cell_type": "code",
   "execution_count": 16,
   "id": "9942cfef",
   "metadata": {},
   "outputs": [],
   "source": [
    "x=df['review']\n",
    "y=df['sentiment']"
   ]
  },
  {
   "cell_type": "code",
   "execution_count": 17,
   "id": "bbcc445b",
   "metadata": {},
   "outputs": [
    {
     "data": {
      "text/plain": [
       "0      0\n",
       "1      1\n",
       "2      0\n",
       "3      0\n",
       "4      0\n",
       "      ..\n",
       "995    0\n",
       "996    0\n",
       "997    0\n",
       "998    1\n",
       "999    1\n",
       "Name: sentiment, Length: 1000, dtype: int64"
      ]
     },
     "execution_count": 17,
     "metadata": {},
     "output_type": "execute_result"
    }
   ],
   "source": [
    "y"
   ]
  },
  {
   "cell_type": "markdown",
   "id": "f0074398",
   "metadata": {},
   "source": [
    "### Split the dataset into Training and Testing Set"
   ]
  },
  {
   "cell_type": "code",
   "execution_count": 18,
   "id": "fbb3024a",
   "metadata": {},
   "outputs": [],
   "source": [
    "from sklearn.model_selection import train_test_split"
   ]
  },
  {
   "cell_type": "code",
   "execution_count": 19,
   "id": "5c5d19b7",
   "metadata": {},
   "outputs": [],
   "source": [
    "x_train,x_test,y_train,y_test=train_test_split(x,y,test_size=0.02)"
   ]
  },
  {
   "cell_type": "markdown",
   "id": "ee49d602",
   "metadata": {},
   "source": [
    "### Convert text to Sequence and add padding"
   ]
  },
  {
   "cell_type": "code",
   "execution_count": 20,
   "id": "e0d7518b",
   "metadata": {},
   "outputs": [],
   "source": [
    "from keras.preprocessing.text import Tokenizer\n",
    "from keras.preprocessing.sequence import pad_sequences"
   ]
  },
  {
   "cell_type": "code",
   "execution_count": 21,
   "id": "bdd9f9cb",
   "metadata": {},
   "outputs": [],
   "source": [
    "tokenizer=Tokenizer(num_words=500)"
   ]
  },
  {
   "cell_type": "markdown",
   "id": "42b38f7d",
   "metadata": {},
   "source": [
    "#### \"fit_on_texts\" - This method creates the vocabulary index based on word frequency. Each word gets a unique id"
   ]
  },
  {
   "cell_type": "code",
   "execution_count": 22,
   "id": "06ee4e07",
   "metadata": {},
   "outputs": [
    {
     "data": {
      "text/plain": [
       "18306"
      ]
     },
     "execution_count": 22,
     "metadata": {},
     "output_type": "execute_result"
    }
   ],
   "source": [
    "tokenizer.fit_on_texts(x_train)\n",
    "vocab_size=len(tokenizer.word_index)+1\n",
    "vocab_size"
   ]
  },
  {
   "cell_type": "markdown",
   "id": "712c50e2",
   "metadata": {},
   "source": [
    "### Apply the function on both Training and Testing set"
   ]
  },
  {
   "cell_type": "code",
   "execution_count": 23,
   "id": "1c285209",
   "metadata": {},
   "outputs": [],
   "source": [
    "def text_encoded(txt):\n",
    "    encoded_text=tokenizer.texts_to_sequences(txt)\n",
    "    pad_sequence=pad_sequences(encoded_text,maxlen=128)\n",
    "    return pad_sequence"
   ]
  },
  {
   "cell_type": "code",
   "execution_count": 24,
   "id": "3da12814",
   "metadata": {},
   "outputs": [],
   "source": [
    "x_train=text_encoded(x_train)\n",
    "x_test=text_encoded(x_test)"
   ]
  },
  {
   "cell_type": "markdown",
   "id": "ebc99434",
   "metadata": {},
   "source": [
    "### Create a keras Sequential model with LSTM Layers"
   ]
  },
  {
   "cell_type": "code",
   "execution_count": 25,
   "id": "02ea3fde",
   "metadata": {},
   "outputs": [],
   "source": [
    "from keras import Sequential,layers"
   ]
  },
  {
   "cell_type": "markdown",
   "id": "6b0e7fc3",
   "metadata": {},
   "source": [
    "### Embedding layer:\n",
    "Vocab size: Number of unique words in our training set\n",
    "\n",
    "Second argument (In this case \"128\" is the size of each embedding vectors"
   ]
  },
  {
   "cell_type": "code",
   "execution_count": 26,
   "id": "29ea6cbd",
   "metadata": {},
   "outputs": [],
   "source": [
    "model=Sequential()\n",
    "model.add(layers.Embedding(vocab_size,128))\n",
    "\n",
    "\n",
    "model.add(layers.LSTM(128,return_sequences=True))\n",
    "model.add(layers.Dropout(0.02))\n",
    "\n",
    "model.add(layers.LSTM(128))\n",
    "model.add(layers.Dropout(0.02))\n",
    "\n",
    "model.add(layers.Dense(64,activation='relu'))\n",
    "model.add(layers.Dropout(0.02))\n",
    "\n",
    "model.add(layers.Dense(1,activation='softmax'))"
   ]
  },
  {
   "cell_type": "markdown",
   "id": "961e8aa0",
   "metadata": {},
   "source": [
    "### Compile the model"
   ]
  },
  {
   "cell_type": "code",
   "execution_count": 27,
   "id": "0bc39ae8",
   "metadata": {},
   "outputs": [],
   "source": [
    "model.compile(loss='categorical_crossentropy',optimizer='adam',metrics=['accuracy'])"
   ]
  },
  {
   "cell_type": "markdown",
   "id": "fe750b84",
   "metadata": {},
   "source": [
    "### Train the model"
   ]
  },
  {
   "cell_type": "code",
   "execution_count": 28,
   "id": "59180cef",
   "metadata": {},
   "outputs": [
    {
     "name": "stdout",
     "output_type": "stream",
     "text": [
      "Epoch 1/10\n"
     ]
    },
    {
     "name": "stderr",
     "output_type": "stream",
     "text": [
      "C:\\Users\\HP\\anaconda3\\lib\\site-packages\\tensorflow\\python\\util\\dispatch.py:1260: SyntaxWarning: In loss categorical_crossentropy, expected y_pred.shape to be (batch_size, num_classes) with num_classes > 1. Received: y_pred.shape=(None, 1). Consider using 'binary_crossentropy' if you only have 2 classes.\n",
      "  return dispatch_target(*args, **kwargs)\n"
     ]
    },
    {
     "name": "stdout",
     "output_type": "stream",
     "text": [
      "30/30 [==============================] - 15s 342ms/step - loss: 0.0000e+00 - accuracy: 0.4973 - val_loss: 0.0000e+00 - val_accuracy: 0.6122\n",
      "Epoch 2/10\n",
      "30/30 [==============================] - 9s 313ms/step - loss: 0.0000e+00 - accuracy: 0.4973 - val_loss: 0.0000e+00 - val_accuracy: 0.6122\n",
      "Epoch 3/10\n",
      "30/30 [==============================] - 9s 296ms/step - loss: 0.0000e+00 - accuracy: 0.4973 - val_loss: 0.0000e+00 - val_accuracy: 0.6122\n",
      "Epoch 4/10\n",
      "30/30 [==============================] - 9s 299ms/step - loss: 0.0000e+00 - accuracy: 0.4973 - val_loss: 0.0000e+00 - val_accuracy: 0.6122\n",
      "Epoch 5/10\n",
      "30/30 [==============================] - 9s 296ms/step - loss: 0.0000e+00 - accuracy: 0.4973 - val_loss: 0.0000e+00 - val_accuracy: 0.6122\n",
      "Epoch 6/10\n",
      "30/30 [==============================] - 9s 295ms/step - loss: 0.0000e+00 - accuracy: 0.4973 - val_loss: 0.0000e+00 - val_accuracy: 0.6122\n",
      "Epoch 7/10\n",
      "30/30 [==============================] - 9s 296ms/step - loss: 0.0000e+00 - accuracy: 0.4973 - val_loss: 0.0000e+00 - val_accuracy: 0.6122\n",
      "Epoch 8/10\n",
      "30/30 [==============================] - 9s 303ms/step - loss: 0.0000e+00 - accuracy: 0.4973 - val_loss: 0.0000e+00 - val_accuracy: 0.6122\n",
      "Epoch 9/10\n",
      "30/30 [==============================] - 9s 296ms/step - loss: 0.0000e+00 - accuracy: 0.4973 - val_loss: 0.0000e+00 - val_accuracy: 0.6122\n",
      "Epoch 10/10\n",
      "30/30 [==============================] - 9s 305ms/step - loss: 0.0000e+00 - accuracy: 0.4973 - val_loss: 0.0000e+00 - val_accuracy: 0.6122\n"
     ]
    },
    {
     "data": {
      "text/plain": [
       "<keras.src.callbacks.History at 0x1df25b6d7e0>"
      ]
     },
     "execution_count": 28,
     "metadata": {},
     "output_type": "execute_result"
    }
   ],
   "source": [
    "model.fit(x_train,y_train,epochs=10,validation_split=0.05)"
   ]
  },
  {
   "cell_type": "markdown",
   "id": "3786bb4a",
   "metadata": {},
   "source": [
    "### Make Prediction with X_test"
   ]
  },
  {
   "cell_type": "code",
   "execution_count": 29,
   "id": "a6c3a586",
   "metadata": {},
   "outputs": [
    {
     "name": "stdout",
     "output_type": "stream",
     "text": [
      "1/1 [==============================] - 2s 2s/step\n"
     ]
    }
   ],
   "source": [
    "y_pred=model.predict(x_test)"
   ]
  },
  {
   "cell_type": "code",
   "execution_count": 30,
   "id": "428a6ea0",
   "metadata": {},
   "outputs": [],
   "source": [
    "y_pred=[np.argmax(i)for i in y_pred]"
   ]
  },
  {
   "cell_type": "markdown",
   "id": "46f2206f",
   "metadata": {},
   "source": [
    "### Model Evaluation"
   ]
  },
  {
   "cell_type": "code",
   "execution_count": 31,
   "id": "c1a52915",
   "metadata": {},
   "outputs": [
    {
     "name": "stdout",
     "output_type": "stream",
     "text": [
      "31/31 [==============================] - 4s 127ms/step - loss: 0.0000e+00 - accuracy: 0.5031\n"
     ]
    },
    {
     "data": {
      "text/plain": [
       "[0.0, 0.5030612349510193]"
      ]
     },
     "execution_count": 31,
     "metadata": {},
     "output_type": "execute_result"
    }
   ],
   "source": [
    "model.evaluate(x_train,y_train)"
   ]
  },
  {
   "cell_type": "code",
   "execution_count": 32,
   "id": "b4616c94",
   "metadata": {},
   "outputs": [],
   "source": [
    "from sklearn.metrics import accuracy_score,confusion_matrix,classification_report"
   ]
  },
  {
   "cell_type": "markdown",
   "id": "2dfeb891",
   "metadata": {},
   "source": [
    "#### Accuracy score"
   ]
  },
  {
   "cell_type": "code",
   "execution_count": 33,
   "id": "20a2ca38",
   "metadata": {},
   "outputs": [
    {
     "data": {
      "text/plain": [
       "0.6"
      ]
     },
     "execution_count": 33,
     "metadata": {},
     "output_type": "execute_result"
    }
   ],
   "source": [
    "accuracy_score(y_test,y_pred)"
   ]
  },
  {
   "cell_type": "markdown",
   "id": "1af37357",
   "metadata": {},
   "source": [
    "### Confusion Matrix"
   ]
  },
  {
   "cell_type": "code",
   "execution_count": 34,
   "id": "fef14978",
   "metadata": {},
   "outputs": [
    {
     "data": {
      "text/plain": [
       "<Axes: >"
      ]
     },
     "execution_count": 34,
     "metadata": {},
     "output_type": "execute_result"
    },
    {
     "data": {
      "image/png": "[encoded data removed]",
      "text/plain": [
       "<Figure size 640x480 with 2 Axes>"
      ]
     },
     "metadata": {},
     "output_type": "display_data"
    }
   ],
   "source": [
    "sns.heatmap(confusion_matrix(y_test,y_pred),annot=True,fmt='d')"
   ]
  },
  {
   "cell_type": "markdown",
   "id": "d7056fd3",
   "metadata": {},
   "source": [
    "### Classification report"
   ]
  },
  {
   "cell_type": "code",
   "execution_count": 35,
   "id": "4402961b",
   "metadata": {},
   "outputs": [
    {
     "name": "stdout",
     "output_type": "stream",
     "text": [
      "              precision    recall  f1-score   support\n",
      "\n",
      "           0       0.60      1.00      0.75        12\n",
      "           1       0.00      0.00      0.00         8\n",
      "\n",
      "    accuracy                           0.60        20\n",
      "   macro avg       0.30      0.50      0.37        20\n",
      "weighted avg       0.36      0.60      0.45        20\n",
      "\n"
     ]
    },
    {
     "name": "stderr",
     "output_type": "stream",
     "text": [
      "C:\\Users\\HP\\anaconda3\\lib\\site-packages\\sklearn\\metrics\\_classification.py:1344: UndefinedMetricWarning: Precision and F-score are ill-defined and being set to 0.0 in labels with no predicted samples. Use `zero_division` parameter to control this behavior.\n",
      "  _warn_prf(average, modifier, msg_start, len(result))\n",
      "C:\\Users\\HP\\anaconda3\\lib\\site-packages\\sklearn\\metrics\\_classification.py:1344: UndefinedMetricWarning: Precision and F-score are ill-defined and being set to 0.0 in labels with no predicted samples. Use `zero_division` parameter to control this behavior.\n",
      "  _warn_prf(average, modifier, msg_start, len(result))\n",
      "C:\\Users\\HP\\anaconda3\\lib\\site-packages\\sklearn\\metrics\\_classification.py:1344: UndefinedMetricWarning: Precision and F-score are ill-defined and being set to 0.0 in labels with no predicted samples. Use `zero_division` parameter to control this behavior.\n",
      "  _warn_prf(average, modifier, msg_start, len(result))\n"
     ]
    }
   ],
   "source": [
    "print(classification_report(y_test,y_pred))"
   ]
  },
  {
   "cell_type": "code",
   "execution_count": null,
   "id": "0eb34fd6",
   "metadata": {},
   "outputs": [],
   "source": []
  }
 ],
 "metadata": {
  "kernelspec": {
   "display_name": "Python 3 (ipykernel)",
   "language": "python",
   "name": "python3"
  },
  "language_info": {
   "codemirror_mode": {
    "name": "ipython",
    "version": 3
   },
   "file_extension": ".py",
   "mimetype": "text/x-python",
   "name": "python",
   "nbconvert_exporter": "python",
   "pygments_lexer": "ipython3",
   "version": "3.10.9"
  }
 },
 "nbformat": 4,
 "nbformat_minor": 5
}
