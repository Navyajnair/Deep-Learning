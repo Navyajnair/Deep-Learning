{
 "cells": [
  {
   "cell_type": "markdown",
   "id": "89d5bb1e",
   "metadata": {},
   "source": [
    " ## Amazon reviews for a leading phone brand"
   ]
  },
  {
   "cell_type": "markdown",
   "id": "4355a59f",
   "metadata": {},
   "source": [
    "A popular mobile phone brand has launched their budget smartphone in the Indian market. The client wants to understand the VOC (voice of the customer) on the product. This will be useful to not just evaluate the current product, but to also get some direction for developing the product pipeline. The client is particularly interested in the different aspects that customers care about. Product reviews by customers on a leading e-commerce site should provide a good view."
   ]
  },
  {
   "cell_type": "markdown",
   "id": "42ab46d3",
   "metadata": {},
   "source": [
    "### Import Necessary Libraries"
   ]
  },
  {
   "cell_type": "code",
   "execution_count": 5,
   "id": "0b230557",
   "metadata": {},
   "outputs": [],
   "source": [
    "import pandas as pd\n",
    "import numpy as np\n",
    "import matplotlib.pyplot as plt\n",
    "import seaborn as sns\n",
    "import re\n",
    "from nltk.corpus import stopwords\n",
    "from nltk.stem import WordNetLemmatizer\n",
    "from sklearn.model_selection import train_test_split\n",
    "from sklearn.metrics import accuracy_score,classification_report,confusion_matrix\n",
    "from keras.preprocessing.text import Tokenizer\n",
    "from keras.preprocessing.sequence import pad_sequences\n",
    "from keras import Sequential,layers"
   ]
  },
  {
   "cell_type": "markdown",
   "id": "82717a78",
   "metadata": {},
   "source": [
    "### Read the dataset"
   ]
  },
  {
   "cell_type": "code",
   "execution_count": 6,
   "id": "7d56628a",
   "metadata": {},
   "outputs": [],
   "source": [
    "df=pd.read_csv('K8 Reviews v0.2.csv')"
   ]
  },
  {
   "cell_type": "code",
   "execution_count": 7,
   "id": "59314da9",
   "metadata": {},
   "outputs": [
    {
     "data": {
      "text/html": [
       "<div>\n",
       "<style scoped>\n",
       "    .dataframe tbody tr th:only-of-type {\n",
       "        vertical-align: middle;\n",
       "    }\n",
       "\n",
       "    .dataframe tbody tr th {\n",
       "        vertical-align: top;\n",
       "    }\n",
       "\n",
       "    .dataframe thead th {\n",
       "        text-align: right;\n",
       "    }\n",
       "</style>\n",
       "<table border=\"1\" class=\"dataframe\">\n",
       "  <thead>\n",
       "    <tr style=\"text-align: right;\">\n",
       "      <th></th>\n",
       "      <th>sentiment</th>\n",
       "      <th>review</th>\n",
       "    </tr>\n",
       "  </thead>\n",
       "  <tbody>\n",
       "    <tr>\n",
       "      <th>0</th>\n",
       "      <td>1</td>\n",
       "      <td>Good but need updates and improvements</td>\n",
       "    </tr>\n",
       "    <tr>\n",
       "      <th>1</th>\n",
       "      <td>0</td>\n",
       "      <td>Worst mobile i have bought ever, Battery is dr...</td>\n",
       "    </tr>\n",
       "    <tr>\n",
       "      <th>2</th>\n",
       "      <td>1</td>\n",
       "      <td>when I will get my 10% cash back.... its alrea...</td>\n",
       "    </tr>\n",
       "    <tr>\n",
       "      <th>3</th>\n",
       "      <td>1</td>\n",
       "      <td>Good</td>\n",
       "    </tr>\n",
       "    <tr>\n",
       "      <th>4</th>\n",
       "      <td>0</td>\n",
       "      <td>The worst phone everThey have changed the last...</td>\n",
       "    </tr>\n",
       "  </tbody>\n",
       "</table>\n",
       "</div>"
      ],
      "text/plain": [
       "   sentiment                                             review\n",
       "0          1             Good but need updates and improvements\n",
       "1          0  Worst mobile i have bought ever, Battery is dr...\n",
       "2          1  when I will get my 10% cash back.... its alrea...\n",
       "3          1                                               Good\n",
       "4          0  The worst phone everThey have changed the last..."
      ]
     },
     "execution_count": 7,
     "metadata": {},
     "output_type": "execute_result"
    }
   ],
   "source": [
    "df.head()"
   ]
  },
  {
   "cell_type": "markdown",
   "id": "f6cb5969",
   "metadata": {},
   "source": [
    "### Print some of the texts along with its emotions"
   ]
  },
  {
   "cell_type": "code",
   "execution_count": 8,
   "id": "93bea394",
   "metadata": {},
   "outputs": [
    {
     "name": "stdout",
     "output_type": "stream",
     "text": [
      "1 --- Good but need updates and improvements\n",
      "\n",
      "0 --- Worst mobile i have bought ever, Battery is draining like hell, backup is only 6 to 7 hours with internet uses, even if I put mobile idle its getting discharged.This is biggest lie from Amazon & Lenove which is not at all expected, they are making full by saying that battery is 4000MAH & booster charger is fake, it takes at least 4 to 5 hours to be fully charged.Don't know how Lenovo will survive by making full of us.Please don;t go for this else you will regret like me.\n",
      "\n",
      "1 --- when I will get my 10% cash back.... its already 15 January..\n",
      "\n",
      "1 --- Good\n",
      "\n",
      "0 --- The worst phone everThey have changed the last phone but the problem is still same and the amazon is not returning the phone .Highly disappointing of amazon\n",
      "\n",
      "0 --- Only I'm telling don't buyI'm totally disappointedPoor batteryPoor cameraWaste of money\n",
      "\n",
      "1 --- Phone is awesome. But while charging, it heats up allot..Really a genuine reason to hate Lenovo k8 note\n",
      "\n",
      "0 --- The battery level has worn down\n",
      "\n",
      "0 --- It's over hitting problems...and phone hanging problems Lenovo k 8 note...so where is service station in Ahmedabad it's one years warranty so it's can change the phone by lenovo\n",
      "\n",
      "0 --- A lot of glitches dont buy this thing better go for some other options\n",
      "\n",
      "0 --- Wrost\n",
      "\n",
      "1 --- Good phone but charger not working / damage within 2 months.\n",
      "\n"
     ]
    }
   ],
   "source": [
    "for i in range(12):\n",
    "    print(df['sentiment'][i],'---',df['review'][i])\n",
    "    print()"
   ]
  },
  {
   "cell_type": "markdown",
   "id": "1efe9114",
   "metadata": {},
   "source": [
    "### View info"
   ]
  },
  {
   "cell_type": "code",
   "execution_count": 9,
   "id": "96b195c3",
   "metadata": {},
   "outputs": [
    {
     "name": "stdout",
     "output_type": "stream",
     "text": [
      "<class 'pandas.core.frame.DataFrame'>\n",
      "RangeIndex: 14675 entries, 0 to 14674\n",
      "Data columns (total 2 columns):\n",
      " #   Column     Non-Null Count  Dtype \n",
      "---  ------     --------------  ----- \n",
      " 0   sentiment  14675 non-null  int64 \n",
      " 1   review     14675 non-null  object\n",
      "dtypes: int64(1), object(1)\n",
      "memory usage: 229.4+ KB\n"
     ]
    }
   ],
   "source": [
    "df.info()"
   ]
  },
  {
   "cell_type": "markdown",
   "id": "fda5ea41",
   "metadata": {},
   "source": [
    "### View basic statistical information about the dataset"
   ]
  },
  {
   "cell_type": "code",
   "execution_count": 10,
   "id": "3ad77da0",
   "metadata": {},
   "outputs": [
    {
     "data": {
      "text/html": [
       "<div>\n",
       "<style scoped>\n",
       "    .dataframe tbody tr th:only-of-type {\n",
       "        vertical-align: middle;\n",
       "    }\n",
       "\n",
       "    .dataframe tbody tr th {\n",
       "        vertical-align: top;\n",
       "    }\n",
       "\n",
       "    .dataframe thead th {\n",
       "        text-align: right;\n",
       "    }\n",
       "</style>\n",
       "<table border=\"1\" class=\"dataframe\">\n",
       "  <thead>\n",
       "    <tr style=\"text-align: right;\">\n",
       "      <th></th>\n",
       "      <th>sentiment</th>\n",
       "    </tr>\n",
       "  </thead>\n",
       "  <tbody>\n",
       "    <tr>\n",
       "      <th>count</th>\n",
       "      <td>14675.000000</td>\n",
       "    </tr>\n",
       "    <tr>\n",
       "      <th>mean</th>\n",
       "      <td>0.474480</td>\n",
       "    </tr>\n",
       "    <tr>\n",
       "      <th>std</th>\n",
       "      <td>0.499365</td>\n",
       "    </tr>\n",
       "    <tr>\n",
       "      <th>min</th>\n",
       "      <td>0.000000</td>\n",
       "    </tr>\n",
       "    <tr>\n",
       "      <th>25%</th>\n",
       "      <td>0.000000</td>\n",
       "    </tr>\n",
       "    <tr>\n",
       "      <th>50%</th>\n",
       "      <td>0.000000</td>\n",
       "    </tr>\n",
       "    <tr>\n",
       "      <th>75%</th>\n",
       "      <td>1.000000</td>\n",
       "    </tr>\n",
       "    <tr>\n",
       "      <th>max</th>\n",
       "      <td>1.000000</td>\n",
       "    </tr>\n",
       "  </tbody>\n",
       "</table>\n",
       "</div>"
      ],
      "text/plain": [
       "          sentiment\n",
       "count  14675.000000\n",
       "mean       0.474480\n",
       "std        0.499365\n",
       "min        0.000000\n",
       "25%        0.000000\n",
       "50%        0.000000\n",
       "75%        1.000000\n",
       "max        1.000000"
      ]
     },
     "execution_count": 10,
     "metadata": {},
     "output_type": "execute_result"
    }
   ],
   "source": [
    "df.describe()"
   ]
  },
  {
   "cell_type": "markdown",
   "id": "268f015f",
   "metadata": {},
   "source": [
    "### Check for null values\n"
   ]
  },
  {
   "cell_type": "code",
   "execution_count": 11,
   "id": "b77178d6",
   "metadata": {},
   "outputs": [
    {
     "data": {
      "text/plain": [
       "sentiment    0\n",
       "review       0\n",
       "dtype: int64"
      ]
     },
     "execution_count": 11,
     "metadata": {},
     "output_type": "execute_result"
    }
   ],
   "source": [
    "df.isna().sum()"
   ]
  },
  {
   "cell_type": "markdown",
   "id": "0f3bc56b",
   "metadata": {},
   "source": [
    "### Plot a countplot of 'Emotions'"
   ]
  },
  {
   "cell_type": "code",
   "execution_count": 12,
   "id": "48224b1c",
   "metadata": {},
   "outputs": [
    {
     "data": {
      "text/plain": [
       "<Axes: xlabel='count', ylabel='sentiment'>"
      ]
     },
     "execution_count": 12,
     "metadata": {},
     "output_type": "execute_result"
    },
    {
     "data": {
      "image/png": "[encoded data removed]",
      "text/plain": [
       "<Figure size 640x480 with 1 Axes>"
      ]
     },
     "metadata": {},
     "output_type": "display_data"
    }
   ],
   "source": [
    "sns.countplot(y=df['sentiment'])"
   ]
  },
  {
   "cell_type": "markdown",
   "id": "1f769834",
   "metadata": {},
   "source": [
    "### Create a function to preprocess the text"
   ]
  },
  {
   "cell_type": "code",
   "execution_count": 13,
   "id": "39b9fa7c",
   "metadata": {},
   "outputs": [],
   "source": [
    "def preprocessing(sentence):\n",
    "    text=re.sub(r\"[^a-zA_Z0-9]\",\" \",sentence).split()\n",
    "    words=[x.lower() for x in text if x not in stopwords.words('english')]\n",
    "    \n",
    "    lemma=WordNetLemmatizer()\n",
    "    word=[lemma.lemmatize(word,'v')for word in words]\n",
    "    \n",
    "    word=' '.join(word)\n",
    "    return word"
   ]
  },
  {
   "cell_type": "markdown",
   "id": "87435ff2",
   "metadata": {},
   "source": [
    "### Apply the function on Text column "
   ]
  },
  {
   "cell_type": "code",
   "execution_count": 14,
   "id": "8e4ed597",
   "metadata": {
    "scrolled": true
   },
   "outputs": [],
   "source": [
    "df['review']=df['review'].apply(preprocessing)"
   ]
  },
  {
   "cell_type": "markdown",
   "id": "51454040",
   "metadata": {},
   "source": [
    "### Print some of the texts after the preprocess"
   ]
  },
  {
   "cell_type": "code",
   "execution_count": 15,
   "id": "de1c0967",
   "metadata": {},
   "outputs": [
    {
     "name": "stdout",
     "output_type": "stream",
     "text": [
      "1 --- ood need update improvements\n",
      "\n",
      "0 --- orst mobile buy ever attery drain like hell backup 6 7 hours internet use even put mobile idle get discharge biggest lie amazon enove expect make full say battery 4000 a booster charger fake take least 4 5 hours fully charge know enovo survive make full us lease go else regret like\n",
      "\n",
      "1 --- get 10 cash back already 15 anuary\n",
      "\n",
      "1 --- ood\n",
      "\n",
      "0 --- worst phone ever hey change last phone problem still amazon return phone ighly disappoint amazon\n",
      "\n",
      "0 --- nly tell buy totally disappoint oor battery oor camera aste money\n",
      "\n",
      "1 --- hone awesome ut charge heat allot eally genuine reason hate enovo k8 note\n",
      "\n",
      "0 --- battery level wear\n",
      "\n",
      "0 --- hit problems phone hang problems enovo k 8 note service station ahmedabad one years warranty change phone lenovo\n",
      "\n",
      "0 --- a lot glitches dont buy thing better go options\n",
      "\n",
      "0 --- rost\n",
      "\n",
      "1 --- ood phone charger work damage within 2 months\n",
      "\n"
     ]
    }
   ],
   "source": [
    "for i in range(12):\n",
    "    print(df['sentiment'][i],'---',df['review'][i])\n",
    "    print()"
   ]
  },
  {
   "cell_type": "markdown",
   "id": "e248ad22",
   "metadata": {},
   "source": [
    "### Split the dataset into Input and Target Variables"
   ]
  },
  {
   "cell_type": "code",
   "execution_count": 16,
   "id": "180f4660",
   "metadata": {},
   "outputs": [],
   "source": [
    "x=df['review']\n",
    "y=df['sentiment']"
   ]
  },
  {
   "cell_type": "markdown",
   "id": "74a5aa41",
   "metadata": {},
   "source": [
    "### Split the dataset into Training and Testing Set"
   ]
  },
  {
   "cell_type": "code",
   "execution_count": 17,
   "id": "211a4f50",
   "metadata": {},
   "outputs": [],
   "source": [
    "x_train,x_test,y_train,y_test=train_test_split(x,y,test_size=0.02)"
   ]
  },
  {
   "cell_type": "markdown",
   "id": "f3e84fa1",
   "metadata": {},
   "source": [
    "### Convert text to Sequence and add padding"
   ]
  },
  {
   "cell_type": "code",
   "execution_count": 18,
   "id": "0222dcf5",
   "metadata": {},
   "outputs": [],
   "source": [
    "tokenizer=Tokenizer(num_words=5000)"
   ]
  },
  {
   "cell_type": "markdown",
   "id": "d490b337",
   "metadata": {},
   "source": [
    "#### \"fit_on_texts\" - This method creates the vocabulary index based on word frequency. Each word gets a unique id"
   ]
  },
  {
   "cell_type": "code",
   "execution_count": 19,
   "id": "c5062ec7",
   "metadata": {},
   "outputs": [
    {
     "data": {
      "text/plain": [
       "10485"
      ]
     },
     "execution_count": 19,
     "metadata": {},
     "output_type": "execute_result"
    }
   ],
   "source": [
    "tokenizer.fit_on_texts(x_train)\n",
    "\n",
    "vocab_size=len(tokenizer.word_index)+1\n",
    "vocab_size"
   ]
  },
  {
   "cell_type": "code",
   "execution_count": 20,
   "id": "c9ede5db",
   "metadata": {},
   "outputs": [],
   "source": [
    "def text_encoded(txt):\n",
    "    encoded_class=tokenizer.texts_to_sequences(txt)\n",
    "    \n",
    "    padded_sequence=pad_sequences(encoded_class,maxlen=128)\n",
    "    return padded_sequence"
   ]
  },
  {
   "cell_type": "markdown",
   "id": "15c014f1",
   "metadata": {},
   "source": [
    "### Apply the function on both Training and Testing set"
   ]
  },
  {
   "cell_type": "code",
   "execution_count": 21,
   "id": "b1aad0c2",
   "metadata": {},
   "outputs": [],
   "source": [
    "x_train=text_encoded(x_train)\n",
    "x_test=text_encoded(x_test)"
   ]
  },
  {
   "cell_type": "markdown",
   "id": "af56a616",
   "metadata": {},
   "source": [
    "### Create a keras Sequential model with LSTM Layers"
   ]
  },
  {
   "cell_type": "markdown",
   "id": "f489bce7",
   "metadata": {},
   "source": [
    "### Embedding layer:\n",
    " * Vocab size: Number of unique words in our training set\n",
    " * Second argument (In this case \"128\" is the size of each embedding vectors"
   ]
  },
  {
   "cell_type": "code",
   "execution_count": 27,
   "id": "00f08633",
   "metadata": {},
   "outputs": [],
   "source": [
    "model=Sequential()\n",
    "\n",
    "model.add(layers.Embedding(vocab_size,128)),\n",
    "\n",
    "model.add(layers.LSTM(128,return_sequences=True)),\n",
    "model.add(layers.Dropout(0.02))\n",
    "\n",
    "model.add(layers.LSTM(128)),\n",
    "model.add(layers.Dense(64,activation='relu'))\n",
    "model.add(layers.Dropout(0.02))\n",
    "\n",
    "model.add(layers.Dense(1,activation='sigmoid'))"
   ]
  },
  {
   "cell_type": "markdown",
   "id": "d907a4aa",
   "metadata": {},
   "source": [
    "### Compile the model"
   ]
  },
  {
   "cell_type": "code",
   "execution_count": 28,
   "id": "0d7d840a",
   "metadata": {},
   "outputs": [],
   "source": [
    "model.compile(loss='categorical_crossentropy',optimizer='adam',metrics=['accuracy'])"
   ]
  },
  {
   "cell_type": "markdown",
   "id": "e4170105",
   "metadata": {},
   "source": [
    "### Train the model"
   ]
  },
  {
   "cell_type": "code",
   "execution_count": 29,
   "id": "efbe39ae",
   "metadata": {},
   "outputs": [
    {
     "name": "stdout",
     "output_type": "stream",
     "text": [
      "Epoch 1/10\n"
     ]
    },
    {
     "name": "stderr",
     "output_type": "stream",
     "text": [
      "C:\\Users\\HP\\anaconda3\\lib\\site-packages\\tensorflow\\python\\util\\dispatch.py:1260: SyntaxWarning: In loss categorical_crossentropy, expected y_pred.shape to be (batch_size, num_classes) with num_classes > 1. Received: y_pred.shape=(None, 1). Consider using 'binary_crossentropy' if you only have 2 classes.\n",
      "  return dispatch_target(*args, **kwargs)\n"
     ]
    },
    {
     "name": "stdout",
     "output_type": "stream",
     "text": [
      "427/427 [==============================] - 121s 274ms/step - loss: 0.0000e+00 - accuracy: 0.5234 - val_loss: 0.0000e+00 - val_accuracy: 0.5347\n",
      "Epoch 2/10\n",
      "427/427 [==============================] - 119s 278ms/step - loss: 0.0000e+00 - accuracy: 0.5235 - val_loss: 0.0000e+00 - val_accuracy: 0.5347\n",
      "Epoch 3/10\n",
      "427/427 [==============================] - 127s 298ms/step - loss: 0.0000e+00 - accuracy: 0.5235 - val_loss: 0.0000e+00 - val_accuracy: 0.5347\n",
      "Epoch 4/10\n",
      "427/427 [==============================] - 127s 297ms/step - loss: 0.0000e+00 - accuracy: 0.5235 - val_loss: 0.0000e+00 - val_accuracy: 0.5347\n",
      "Epoch 5/10\n",
      "427/427 [==============================] - 124s 291ms/step - loss: 0.0000e+00 - accuracy: 0.5235 - val_loss: 0.0000e+00 - val_accuracy: 0.5347\n",
      "Epoch 6/10\n",
      "427/427 [==============================] - 124s 292ms/step - loss: 0.0000e+00 - accuracy: 0.5235 - val_loss: 0.0000e+00 - val_accuracy: 0.5347\n",
      "Epoch 7/10\n",
      "427/427 [==============================] - 129s 302ms/step - loss: 0.0000e+00 - accuracy: 0.5235 - val_loss: 0.0000e+00 - val_accuracy: 0.5347\n",
      "Epoch 8/10\n",
      "427/427 [==============================] - 162s 379ms/step - loss: 0.0000e+00 - accuracy: 0.5235 - val_loss: 0.0000e+00 - val_accuracy: 0.5347\n",
      "Epoch 9/10\n",
      "427/427 [==============================] - 113s 265ms/step - loss: 0.0000e+00 - accuracy: 0.5235 - val_loss: 0.0000e+00 - val_accuracy: 0.5347\n",
      "Epoch 10/10\n",
      "427/427 [==============================] - 114s 268ms/step - loss: 0.0000e+00 - accuracy: 0.5235 - val_loss: 0.0000e+00 - val_accuracy: 0.5347\n"
     ]
    },
    {
     "data": {
      "text/plain": [
       "<keras.src.callbacks.History at 0x192485b8e20>"
      ]
     },
     "execution_count": 29,
     "metadata": {},
     "output_type": "execute_result"
    }
   ],
   "source": [
    "model.fit(x_train,y_train,epochs=10,validation_split=0.05)"
   ]
  },
  {
   "cell_type": "markdown",
   "id": "033c6870",
   "metadata": {},
   "source": [
    "### Make Prediction with X_test"
   ]
  },
  {
   "cell_type": "code",
   "execution_count": 31,
   "id": "2a594796",
   "metadata": {},
   "outputs": [
    {
     "name": "stdout",
     "output_type": "stream",
     "text": [
      "10/10 [==============================] - 1s 81ms/step\n"
     ]
    }
   ],
   "source": [
    "pred=model.predict(x_test)"
   ]
  },
  {
   "cell_type": "code",
   "execution_count": 32,
   "id": "7ab75f70",
   "metadata": {},
   "outputs": [],
   "source": [
    "pred=[np.argmax(i) for i in pred]"
   ]
  },
  {
   "cell_type": "markdown",
   "id": "fe520c06",
   "metadata": {},
   "source": [
    "### Model Evaluation"
   ]
  },
  {
   "cell_type": "code",
   "execution_count": 34,
   "id": "5e1f7c26",
   "metadata": {},
   "outputs": [
    {
     "name": "stdout",
     "output_type": "stream",
     "text": [
      "450/450 [==============================] - 38s 85ms/step - loss: 0.0000e+00 - accuracy: 0.5241\n"
     ]
    },
    {
     "data": {
      "text/plain": [
       "[0.0, 0.52409428358078]"
      ]
     },
     "execution_count": 34,
     "metadata": {},
     "output_type": "execute_result"
    }
   ],
   "source": [
    "model.evaluate(x_train,y_train)"
   ]
  },
  {
   "cell_type": "markdown",
   "id": "ee0ab2d0",
   "metadata": {},
   "source": [
    "#### Accuracy score"
   ]
  },
  {
   "cell_type": "code",
   "execution_count": 35,
   "id": "c0392635",
   "metadata": {},
   "outputs": [
    {
     "data": {
      "text/plain": [
       "0.5952380952380952"
      ]
     },
     "execution_count": 35,
     "metadata": {},
     "output_type": "execute_result"
    }
   ],
   "source": [
    "accuracy_score(y_test,pred)"
   ]
  },
  {
   "cell_type": "markdown",
   "id": "fa6b7a68",
   "metadata": {},
   "source": [
    "### Confusion Matrix"
   ]
  },
  {
   "cell_type": "code",
   "execution_count": 37,
   "id": "b2897357",
   "metadata": {},
   "outputs": [
    {
     "data": {
      "text/plain": [
       "<Axes: >"
      ]
     },
     "execution_count": 37,
     "metadata": {},
     "output_type": "execute_result"
    },
    {
     "data": {
      "image/png": "[encoded data removed]",
      "text/plain": [
       "<Figure size 640x480 with 2 Axes>"
      ]
     },
     "metadata": {},
     "output_type": "display_data"
    }
   ],
   "source": [
    "sns.heatmap(confusion_matrix(y_test,pred),annot=True,fmt='d')"
   ]
  },
  {
   "cell_type": "markdown",
   "id": "861ff8a5",
   "metadata": {},
   "source": [
    "### Classification report"
   ]
  },
  {
   "cell_type": "code",
   "execution_count": 39,
   "id": "7687d8c8",
   "metadata": {},
   "outputs": [
    {
     "name": "stdout",
     "output_type": "stream",
     "text": [
      "              precision    recall  f1-score   support\n",
      "\n",
      "           0       0.60      1.00      0.75       175\n",
      "           1       0.00      0.00      0.00       119\n",
      "\n",
      "    accuracy                           0.60       294\n",
      "   macro avg       0.30      0.50      0.37       294\n",
      "weighted avg       0.35      0.60      0.44       294\n",
      "\n"
     ]
    },
    {
     "name": "stderr",
     "output_type": "stream",
     "text": [
      "C:\\Users\\HP\\anaconda3\\lib\\site-packages\\sklearn\\metrics\\_classification.py:1344: UndefinedMetricWarning: Precision and F-score are ill-defined and being set to 0.0 in labels with no predicted samples. Use `zero_division` parameter to control this behavior.\n",
      "  _warn_prf(average, modifier, msg_start, len(result))\n",
      "C:\\Users\\HP\\anaconda3\\lib\\site-packages\\sklearn\\metrics\\_classification.py:1344: UndefinedMetricWarning: Precision and F-score are ill-defined and being set to 0.0 in labels with no predicted samples. Use `zero_division` parameter to control this behavior.\n",
      "  _warn_prf(average, modifier, msg_start, len(result))\n",
      "C:\\Users\\HP\\anaconda3\\lib\\site-packages\\sklearn\\metrics\\_classification.py:1344: UndefinedMetricWarning: Precision and F-score are ill-defined and being set to 0.0 in labels with no predicted samples. Use `zero_division` parameter to control this behavior.\n",
      "  _warn_prf(average, modifier, msg_start, len(result))\n"
     ]
    }
   ],
   "source": [
    "print(classification_report(y_test,pred))"
   ]
  },
  {
   "cell_type": "code",
   "execution_count": null,
   "id": "7bbcb31e",
   "metadata": {},
   "outputs": [],
   "source": []
  }
 ],
 "metadata": {
  "kernelspec": {
   "display_name": "Python 3 (ipykernel)",
   "language": "python",
   "name": "python3"
  },
  "language_info": {
   "codemirror_mode": {
    "name": "ipython",
    "version": 3
   },
   "file_extension": ".py",
   "mimetype": "text/x-python",
   "name": "python",
   "nbconvert_exporter": "python",
   "pygments_lexer": "ipython3",
   "version": "3.10.9"
  }
 },
 "nbformat": 4,
 "nbformat_minor": 5
}
